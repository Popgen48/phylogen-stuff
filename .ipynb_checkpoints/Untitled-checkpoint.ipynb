{
 "cells": [
  {
   "cell_type": "code",
   "execution_count": 1,
   "id": "a17bfd56-eb31-4211-b471-e5f495084c11",
   "metadata": {},
   "outputs": [
    {
     "ename": "ModuleNotFoundError",
     "evalue": "No module named 'pysam'",
     "output_type": "error",
     "traceback": [
      "\u001b[0;31m---------------------------------------------------------------------------\u001b[0m",
      "\u001b[0;31mModuleNotFoundError\u001b[0m                       Traceback (most recent call last)",
      "Cell \u001b[0;32mIn[1], line 2\u001b[0m\n\u001b[1;32m      1\u001b[0m \u001b[38;5;28;01mimport\u001b[39;00m \u001b[38;5;21;01msys\u001b[39;00m\n\u001b[0;32m----> 2\u001b[0m \u001b[38;5;28;01mimport\u001b[39;00m \u001b[38;5;21;01mpysam\u001b[39;00m\n",
      "\u001b[0;31mModuleNotFoundError\u001b[0m: No module named 'pysam'"
     ]
    }
   ],
   "source": [
    "import sys\n",
    "import pysam"
   ]
  },
  {
   "cell_type": "code",
   "execution_count": 2,
   "id": "d0c3ac70-741c-4ee6-86b5-e69310088d38",
   "metadata": {},
   "outputs": [
    {
     "ename": "ValueError",
     "evalue": "could not convert string to float: '/home/ra42nig/.local/share/jupyter/runtime/kernel-8603bc2d-d12d-4294-bedc-0fb356d36e30.json'",
     "output_type": "error",
     "traceback": [
      "\u001b[0;31m---------------------------------------------------------------------------\u001b[0m",
      "\u001b[0;31mValueError\u001b[0m                                Traceback (most recent call last)",
      "Cell \u001b[0;32mIn[2], line 2\u001b[0m\n\u001b[1;32m      1\u001b[0m vcf_path \u001b[38;5;241m=\u001b[39m sys\u001b[38;5;241m.\u001b[39margv[\u001b[38;5;241m1\u001b[39m]\n\u001b[0;32m----> 2\u001b[0m threshold \u001b[38;5;241m=\u001b[39m \u001b[38;5;28;43mfloat\u001b[39;49m\u001b[43m(\u001b[49m\u001b[43msys\u001b[49m\u001b[38;5;241;43m.\u001b[39;49m\u001b[43margv\u001b[49m\u001b[43m[\u001b[49m\u001b[38;5;241;43m2\u001b[39;49m\u001b[43m]\u001b[49m\u001b[43m)\u001b[49m\n\u001b[1;32m      3\u001b[0m group_size \u001b[38;5;241m=\u001b[39m \u001b[38;5;28mint\u001b[39m(sys\u001b[38;5;241m.\u001b[39margv[\u001b[38;5;241m3\u001b[39m])\n\u001b[1;32m      5\u001b[0m vcf \u001b[38;5;241m=\u001b[39m pysam\u001b[38;5;241m.\u001b[39mVariantFile(vcf_path)\n",
      "\u001b[0;31mValueError\u001b[0m: could not convert string to float: '/home/ra42nig/.local/share/jupyter/runtime/kernel-8603bc2d-d12d-4294-bedc-0fb356d36e30.json'"
     ]
    }
   ],
   "source": [
    "vcf_path = sys.argv[1]\n",
    "threshold = float(sys.argv[2])\n",
    "group_size = int(sys.argv[3])\n",
    "\n",
    "vcf = pysam.VariantFile(vcf_path)\n",
    "\n",
    "sample_alleles = {}\n",
    "\n",
    "previous_record = None\n",
    "group_i = 0"
   ]
  },
  {
   "cell_type": "code",
   "execution_count": 3,
   "id": "2df4fa54-737a-48e3-9e56-d5245b287bc1",
   "metadata": {},
   "outputs": [
    {
     "ename": "NameError",
     "evalue": "name 'vcf' is not defined",
     "output_type": "error",
     "traceback": [
      "\u001b[0;31m---------------------------------------------------------------------------\u001b[0m",
      "\u001b[0;31mNameError\u001b[0m                                 Traceback (most recent call last)",
      "Cell \u001b[0;32mIn[3], line 1\u001b[0m\n\u001b[0;32m----> 1\u001b[0m \u001b[38;5;28;01mfor\u001b[39;00m i, record \u001b[38;5;129;01min\u001b[39;00m \u001b[38;5;28menumerate\u001b[39m(\u001b[43mvcf\u001b[49m):\n\u001b[1;32m      2\u001b[0m     gt_map \u001b[38;5;241m=\u001b[39m {\u001b[38;5;241m0\u001b[39m: record\u001b[38;5;241m.\u001b[39mref, \u001b[38;5;241m1\u001b[39m: record\u001b[38;5;241m.\u001b[39malts[\u001b[38;5;241m0\u001b[39m], \u001b[38;5;28;01mNone\u001b[39;00m: \u001b[38;5;124m'\u001b[39m\u001b[38;5;124m-\u001b[39m\u001b[38;5;124m'\u001b[39m}\n\u001b[1;32m      3\u001b[0m     current_pos \u001b[38;5;241m=\u001b[39m record\u001b[38;5;241m.\u001b[39mpos\n",
      "\u001b[0;31mNameError\u001b[0m: name 'vcf' is not defined"
     ]
    }
   ],
   "source": [
    "for i, record in enumerate(vcf):\n",
    "    gt_map = {0: record.ref, 1: record.alts[0], None: '-'}\n",
    "    current_pos = record.pos\n",
    "    if not previous_record:\n",
    "        previous_pos = record.pos\n",
    "    else:\n",
    "        previous_pos = previous_record.pos\n",
    "    flag = False\n",
    "    # Continue only if the current position is greater than previous one by the number of threshold base pairs.\n",
    "    if current_pos - previous_pos < threshold:\n",
    "        if group_i == group_size:\n",
    "            for key, values in sample_alleles.items():\n",
    "                new_allele1 = [''.join(values[0][-group_i:])]\n",
    "                values[0] = values[0][:-group_i] + new_allele1\n",
    "\n",
    "                new_allele2 = [''.join(values[1][-group_i:])]\n",
    "                values[1] = values[1][:-group_i] + new_allele2\n",
    "\n",
    "                sample_alleles[key] = values\n",
    "            group_i = 0\n",
    "\n",
    "            \n",
    "        if flag:\n",
    "            # Also Add the previous genotye to group\n",
    "            for sample in previous_record.samples:\n",
    "                if sample not in sample_alleles:\n",
    "                    sample_alleles[sample] = [[], []]\n",
    "                sample_values = previous_record.samples[sample]['GT']\n",
    "                allele1 = gt_map[sample_values[0]]\n",
    "                allele2 = gt_map[sample_values[1]]\n",
    "                sample_alleles[sample][0].append(allele1)\n",
    "                sample_alleles[sample][1].append(allele2)\n",
    "            group_i += 1\n",
    "            flag = False\n",
    "\n",
    "        # Add the current genotye to group\n",
    "        for sample in record.samples:\n",
    "            if sample not in sample_alleles:\n",
    "                sample_alleles[sample] = [[], []]\n",
    "            sample_values = record.samples[sample]['GT']       \n",
    "            allele1 = gt_map[sample_values[0]]\n",
    "            allele2 = gt_map[sample_values[1]]\n",
    "            sample_alleles[sample][0].append(allele1)\n",
    "            sample_alleles[sample][1].append(allele2)\n",
    "        group_i += 1\n",
    "    else:\n",
    "        flag = True\n",
    "        if group_i == 0:\n",
    "            continue\n",
    "        else:\n",
    "            for key, values in sample_alleles.items():\n",
    "                new_allele1 = [''.join(values[0][-group_i:])]\n",
    "                values[0] = values[0][:-group_i] + new_allele1\n",
    "\n",
    "                new_allele2 = [''.join(values[1][-group_i:])]\n",
    "                values[1] = values[1][:-group_i] + new_allele2\n",
    "\n",
    "                sample_alleles[key] = values\n",
    "        group_i = 0\n",
    "\n",
    "    previous_record = record"
   ]
  },
  {
   "cell_type": "code",
   "execution_count": 4,
   "id": "f311c077-62ab-47b6-af65-f17ba6a0e12c",
   "metadata": {},
   "outputs": [
    {
     "ename": "NameError",
     "evalue": "name 'sample_alleles' is not defined",
     "output_type": "error",
     "traceback": [
      "\u001b[0;31m---------------------------------------------------------------------------\u001b[0m",
      "\u001b[0;31mNameError\u001b[0m                                 Traceback (most recent call last)",
      "Cell \u001b[0;32mIn[4], line 2\u001b[0m\n\u001b[1;32m      1\u001b[0m spa_counts \u001b[38;5;241m=\u001b[39m {}\n\u001b[0;32m----> 2\u001b[0m \u001b[38;5;28;01mfor\u001b[39;00m key, values \u001b[38;5;129;01min\u001b[39;00m \u001b[43msample_alleles\u001b[49m\u001b[38;5;241m.\u001b[39mitems():\n\u001b[1;32m      3\u001b[0m     sample_alleles[key] \u001b[38;5;241m=\u001b[39m values[\u001b[38;5;241m0\u001b[39m] \u001b[38;5;241m+\u001b[39m values[\u001b[38;5;241m1\u001b[39m]\n\u001b[1;32m      4\u001b[0m     spa_counts[key] \u001b[38;5;241m=\u001b[39m [\u001b[38;5;241m0\u001b[39m] \u001b[38;5;241m*\u001b[39m \u001b[38;5;28mlen\u001b[39m(sample_alleles)\n",
      "\u001b[0;31mNameError\u001b[0m: name 'sample_alleles' is not defined"
     ]
    }
   ],
   "source": [
    "spa_counts = {}\n",
    "for key, values in sample_alleles.items():\n",
    "    sample_alleles[key] = values[0] + values[1]\n",
    "    spa_counts[key] = [0] * len(sample_alleles)\n",
    "\n",
    "print(sample_alleles['AGT05'])"
   ]
  },
  {
   "cell_type": "code",
   "execution_count": 5,
   "id": "b43fd89f-81af-4196-8dcd-967bf5763ec4",
   "metadata": {},
   "outputs": [
    {
     "ename": "NameError",
     "evalue": "name 'sample_alleles' is not defined",
     "output_type": "error",
     "traceback": [
      "\u001b[0;31m---------------------------------------------------------------------------\u001b[0m",
      "\u001b[0;31mNameError\u001b[0m                                 Traceback (most recent call last)",
      "Cell \u001b[0;32mIn[5], line 1\u001b[0m\n\u001b[0;32m----> 1\u001b[0m my_keys \u001b[38;5;241m=\u001b[39m \u001b[38;5;28mlist\u001b[39m(\u001b[43msample_alleles\u001b[49m\u001b[38;5;241m.\u001b[39mkeys())\n\u001b[1;32m      2\u001b[0m \u001b[38;5;28;01mfor\u001b[39;00m key, values \u001b[38;5;129;01min\u001b[39;00m sample_alleles\u001b[38;5;241m.\u001b[39mitems():\n\u001b[1;32m      3\u001b[0m     \u001b[38;5;28;01mfor\u001b[39;00m allele \u001b[38;5;129;01min\u001b[39;00m values:\n",
      "\u001b[0;31mNameError\u001b[0m: name 'sample_alleles' is not defined"
     ]
    }
   ],
   "source": [
    "my_keys = list(sample_alleles.keys())\n",
    "for key, values in sample_alleles.items():\n",
    "    for allele in values:\n",
    "        count = 0\n",
    "        idx = []\n",
    "        for key2, values2 in sample_alleles.items():\n",
    "            if allele in values2:\n",
    "                count += 1\n",
    "                idx.append(key2) \n",
    "            if count > 2:\n",
    "                break\n",
    "        if len(idx) == 1:\n",
    "            spa_counts[key][my_keys.index(idx[0])] += 1\n"
   ]
  },
  {
   "cell_type": "code",
   "execution_count": null,
   "id": "21dce152-2d84-4190-ae5d-53f05ab4f7d7",
   "metadata": {},
   "outputs": [],
   "source": [
    "print(spa_counts['AGT05'])\n"
   ]
  }
 ],
 "metadata": {
  "kernelspec": {
   "display_name": "Python 3 (ipykernel)",
   "language": "python",
   "name": "python3"
  },
  "language_info": {
   "codemirror_mode": {
    "name": "ipython",
    "version": 3
   },
   "file_extension": ".py",
   "mimetype": "text/x-python",
   "name": "python",
   "nbconvert_exporter": "python",
   "pygments_lexer": "ipython3",
   "version": "3.8.18"
  }
 },
 "nbformat": 4,
 "nbformat_minor": 5
}
