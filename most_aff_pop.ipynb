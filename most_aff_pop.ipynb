{
 "cells": [
  {
   "cell_type": "code",
   "execution_count": 1,
   "metadata": {},
   "outputs": [],
   "source": [
    "import pandas as pd"
   ]
  },
  {
   "cell_type": "code",
   "execution_count": 22,
   "metadata": {},
   "outputs": [],
   "source": [
    "df = pd.read_csv('spa_counts.csv')"
   ]
  },
  {
   "cell_type": "markdown",
   "metadata": {},
   "source": [
    "Block:2367 Str:GAAG\n",
    "Block:2416 Str:AAAG"
   ]
  },
  {
   "cell_type": "markdown",
   "metadata": {},
   "source": [
    "Animal: ['SAAgoat417']   Pop: 3\n",
    "Block:2367 Str:GAAG ['snp34558-scaffold408-457530', 'snp34557-scaffold408-409448', 'snp34556-scaffold408-363242', 'snp34555-scaffold408-328360']\n",
    "Animal: ['CHAgoat121']   Pop: 3\n",
    "Block:2416 Str:AAAG ['snp11580-scaffold1423-1357387', 'snp11581-scaffold1423-1398778', 'snp11582-scaffold1423-1439118', 'snp11583-scaffold1423-1468834']"
   ]
  },
  {
   "cell_type": "code",
   "execution_count": 4,
   "metadata": {},
   "outputs": [],
   "source": [
    "block_2367 = ['snp34558-scaffold408-457530', 'snp34557-scaffold408-409448', 'snp34556-scaffold408-363242', 'snp34555-scaffold408-328360']\n",
    "\n",
    "block_2416 = ['snp11580-scaffold1423-1357387', 'snp11581-scaffold1423-1398778', 'snp11582-scaffold1423-1439118', 'snp11583-scaffold1423-1468834']"
   ]
  },
  {
   "cell_type": "code",
   "execution_count": 16,
   "metadata": {},
   "outputs": [],
   "source": [
    "import pysam \n",
    "\n",
    "vcf = pysam.VariantFile('./examples/true_vcfs/DRZdivAlp1M_DRZdivA1m025_true_filtered.vcf')"
   ]
  },
  {
   "cell_type": "code",
   "execution_count": 11,
   "metadata": {},
   "outputs": [
    {
     "name": "stdout",
     "output_type": "stream",
     "text": [
      "snp34558-scaffold408-457530 9 54250041 A ('G',) (1, 0)\n",
      "snp34557-scaffold408-409448 9 54298123 A ('G',) (0, 0)\n",
      "snp34556-scaffold408-363242 9 54344329 A ('G',) (0, 1)\n",
      "snp34555-scaffold408-328360 9 54379211 A ('G',) (1, 0)\n"
     ]
    }
   ],
   "source": [
    "for record in vcf:\n",
    "    if record.id in block_2367:\n",
    "        print(record.id, record.chrom, record.pos, record.ref, record.alts, record.samples['SAAgoat417']['GT'])"
   ]
  },
  {
   "cell_type": "markdown",
   "metadata": {},
   "source": [
    "Str1: GAAG, Str2: AAGA"
   ]
  },
  {
   "cell_type": "code",
   "execution_count": 14,
   "metadata": {},
   "outputs": [
    {
     "name": "stdout",
     "output_type": "stream",
     "text": [
      "snp11580-scaffold1423-1357387 9 68977978 A ('G',) (0, 0)\n",
      "snp11581-scaffold1423-1398778 9 69019369 A ('G',) (0, 0)\n",
      "snp11582-scaffold1423-1439118 9 69059709 A ('G',) (1, 0)\n",
      "snp11583-scaffold1423-1468834 9 69089425 A ('G',) (0, 1)\n"
     ]
    }
   ],
   "source": [
    "for record in vcf:\n",
    "    if record.id in block_2416:\n",
    "        print(record.id, record.chrom, record.pos, record.ref, record.alts, record.samples['CHAgoat121']['GT'])"
   ]
  },
  {
   "cell_type": "markdown",
   "metadata": {},
   "source": [
    "Str1: AAGA, Str2: AAAG"
   ]
  },
  {
   "cell_type": "code",
   "execution_count": 17,
   "metadata": {},
   "outputs": [
    {
     "name": "stdout",
     "output_type": "stream",
     "text": [
      "snp11580-scaffold1423-1357387 9 68977978 A ('G',) (1, 1)\n",
      "snp11581-scaffold1423-1398778 9 69019369 A ('G',) (0, 0)\n",
      "snp11582-scaffold1423-1439118 9 69059709 A ('G',) (0, 0)\n",
      "snp11583-scaffold1423-1468834 9 69089425 A ('G',) (0, 1)\n"
     ]
    }
   ],
   "source": [
    "for record in vcf:\n",
    "    if record.id in block_2416:\n",
    "        print(record.id, record.chrom, record.pos, record.ref, record.alts, record.samples['GSTgoat60']['GT'])"
   ]
  },
  {
   "cell_type": "markdown",
   "metadata": {},
   "source": []
  },
  {
   "cell_type": "code",
   "execution_count": 41,
   "metadata": {},
   "outputs": [],
   "source": [
    "with open('diff_markers.txt', 'r') as f:\n",
    "    lines = f.readlines()\n",
    "    \n",
    "markers = [x.split()[1] for x in lines] \n",
    "\n",
    "vcf = pysam.VariantFile('./examples/true_vcfs/DRZdivAlp1M_DRZdivA1m025_true.vcf')\n",
    "\n",
    "animals = list(df['Animal_ID'])"
   ]
  },
  {
   "cell_type": "code",
   "execution_count": 43,
   "metadata": {},
   "outputs": [],
   "source": [
    "def get_maf(record):\n",
    "    mafs = [0, 0]\n",
    "    for val in record.samples:\n",
    "        if val not in animals:\n",
    "            continue\n",
    "        if record.samples[val]['GT'][0] != None:\n",
    "            mafs[record.samples[val]['GT'][0]] += 1\n",
    "        if record.samples[val]['GT'][1] != None:\n",
    "            mafs[record.samples[val]['GT'][1]] += 1\n",
    "    return min(mafs) / sum(mafs)"
   ]
  },
  {
   "cell_type": "code",
   "execution_count": 44,
   "metadata": {},
   "outputs": [],
   "source": [
    "mafs = {}\n",
    "for record in vcf:\n",
    "    if record.id in markers:\n",
    "        maf = get_maf(record)\n",
    "        # print(record.id, maf)\n",
    "        mafs[record.id] = maf"
   ]
  },
  {
   "cell_type": "code",
   "execution_count": 45,
   "metadata": {},
   "outputs": [],
   "source": [
    "with open('diff_markers_maf.txt', 'w') as f:\n",
    "    for i, l in enumerate(lines):\n",
    "        if mafs[l.split()[1]] >= 0.025:\n",
    "            f.write(f'{l[:-2]}\\t\\t{mafs[l.split()[1]]}\\t*\\n')        \n",
    "        else:    \n",
    "            f.write(f'{l[:-2]}\\t\\t{mafs[l.split()[1]]}\\n')        "
   ]
  },
  {
   "cell_type": "code",
   "execution_count": null,
   "metadata": {},
   "outputs": [],
   "source": []
  }
 ],
 "metadata": {
  "kernelspec": {
   "display_name": "cLDLA",
   "language": "python",
   "name": "python3"
  },
  "language_info": {
   "codemirror_mode": {
    "name": "ipython",
    "version": 3
   },
   "file_extension": ".py",
   "mimetype": "text/x-python",
   "name": "python",
   "nbconvert_exporter": "python",
   "pygments_lexer": "ipython3",
   "version": "3.10.8"
  }
 },
 "nbformat": 4,
 "nbformat_minor": 2
}
